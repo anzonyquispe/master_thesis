{
 "cells": [
  {
   "cell_type": "code",
   "execution_count": 1,
   "id": "eefd369a",
   "metadata": {},
   "outputs": [],
   "source": [
    "import pandas as pd\n"
   ]
  },
  {
   "cell_type": "code",
   "execution_count": 2,
   "id": "e5576d35",
   "metadata": {},
   "outputs": [],
   "source": [
    "lists = pd.read_csv('/Users/ar8787/Downloads/listings.csv')"
   ]
  },
  {
   "cell_type": "code",
   "execution_count": 3,
   "id": "ec7f42cf",
   "metadata": {},
   "outputs": [],
   "source": [
    "neighs = pd.read_csv('/Users/ar8787/Downloads/neighbourhoods.csv')"
   ]
  },
  {
   "cell_type": "code",
   "execution_count": 4,
   "id": "52c430f2",
   "metadata": {},
   "outputs": [],
   "source": [
    "reviews = pd.read_csv('/Users/ar8787/Downloads/reviews.csv')"
   ]
  },
  {
   "cell_type": "code",
   "execution_count": null,
   "id": "1e42dd9d",
   "metadata": {},
   "outputs": [],
   "source": [
    "neighs"
   ]
  },
  {
   "cell_type": "code",
   "execution_count": 13,
   "id": "2f5509b1",
   "metadata": {},
   "outputs": [],
   "source": [
    "lists = pd.read_csv('/Users/ar8787/Downloads/listings.csv.gz')\n"
   ]
  },
  {
   "cell_type": "code",
   "execution_count": 15,
   "id": "cdfb25e5",
   "metadata": {},
   "outputs": [],
   "source": [
    "cols = ['host_is_superhost',\n",
    "       'host_listings_count',\n",
    "       'host_has_profile_pic',\n",
    "       'host_identity_verified',\n",
    "       'Distance_km',\n",
    "       'accommodation_type_1',\n",
    "       'accommodation_type_2',\n",
    "       'entire_home_apt',\n",
    "       'private_room',\n",
    "       'accommodates',\n",
    "       'bathrooms',\n",
    "       'bedrooms',\n",
    "       'Real_bed',\n",
    "       'Wireless_Internet',\n",
    "       'Breakfast',\n",
    "       'Free_Parking',\n",
    "       'instant_bookable',\n",
    "       'cancellation_policy',\n",
    "       'Smoking_Allowed',\n",
    "       'require_guest_profile_picture',\n",
    "       'require_guest_phone_verification',\n",
    "       'Reviews_per_years',\n",
    "       'review_scores_rating']"
   ]
  },
  {
   "cell_type": "code",
   "execution_count": 16,
   "id": "314fc158",
   "metadata": {},
   "outputs": [
    {
     "ename": "KeyError",
     "evalue": "\"['Distance_km', 'accommodation_type_1', 'accommodation_type_2', 'entire_home_apt', 'private_room', 'Real_bed', 'Wireless_Internet', 'Breakfast', 'Free_Parking', 'cancellation_policy', 'Smoking_Allowed', 'require_guest_profile_picture', 'require_guest_phone_verification', 'Reviews_per_years'] not in index\"",
     "output_type": "error",
     "traceback": [
      "\u001b[0;31m---------------------------------------------------------------------------\u001b[0m",
      "\u001b[0;31mKeyError\u001b[0m                                  Traceback (most recent call last)",
      "Cell \u001b[0;32mIn[16], line 1\u001b[0m\n\u001b[0;32m----> 1\u001b[0m lists[cols]\n",
      "File \u001b[0;32m~/anaconda3/lib/python3.11/site-packages/pandas/core/frame.py:4096\u001b[0m, in \u001b[0;36mDataFrame.__getitem__\u001b[0;34m(self, key)\u001b[0m\n\u001b[1;32m   4094\u001b[0m     \u001b[38;5;28;01mif\u001b[39;00m is_iterator(key):\n\u001b[1;32m   4095\u001b[0m         key \u001b[38;5;241m=\u001b[39m \u001b[38;5;28mlist\u001b[39m(key)\n\u001b[0;32m-> 4096\u001b[0m     indexer \u001b[38;5;241m=\u001b[39m \u001b[38;5;28mself\u001b[39m\u001b[38;5;241m.\u001b[39mcolumns\u001b[38;5;241m.\u001b[39m_get_indexer_strict(key, \u001b[38;5;124m\"\u001b[39m\u001b[38;5;124mcolumns\u001b[39m\u001b[38;5;124m\"\u001b[39m)[\u001b[38;5;241m1\u001b[39m]\n\u001b[1;32m   4098\u001b[0m \u001b[38;5;66;03m# take() does not accept boolean indexers\u001b[39;00m\n\u001b[1;32m   4099\u001b[0m \u001b[38;5;28;01mif\u001b[39;00m \u001b[38;5;28mgetattr\u001b[39m(indexer, \u001b[38;5;124m\"\u001b[39m\u001b[38;5;124mdtype\u001b[39m\u001b[38;5;124m\"\u001b[39m, \u001b[38;5;28;01mNone\u001b[39;00m) \u001b[38;5;241m==\u001b[39m \u001b[38;5;28mbool\u001b[39m:\n",
      "File \u001b[0;32m~/anaconda3/lib/python3.11/site-packages/pandas/core/indexes/base.py:6200\u001b[0m, in \u001b[0;36mIndex._get_indexer_strict\u001b[0;34m(self, key, axis_name)\u001b[0m\n\u001b[1;32m   6197\u001b[0m \u001b[38;5;28;01melse\u001b[39;00m:\n\u001b[1;32m   6198\u001b[0m     keyarr, indexer, new_indexer \u001b[38;5;241m=\u001b[39m \u001b[38;5;28mself\u001b[39m\u001b[38;5;241m.\u001b[39m_reindex_non_unique(keyarr)\n\u001b[0;32m-> 6200\u001b[0m \u001b[38;5;28mself\u001b[39m\u001b[38;5;241m.\u001b[39m_raise_if_missing(keyarr, indexer, axis_name)\n\u001b[1;32m   6202\u001b[0m keyarr \u001b[38;5;241m=\u001b[39m \u001b[38;5;28mself\u001b[39m\u001b[38;5;241m.\u001b[39mtake(indexer)\n\u001b[1;32m   6203\u001b[0m \u001b[38;5;28;01mif\u001b[39;00m \u001b[38;5;28misinstance\u001b[39m(key, Index):\n\u001b[1;32m   6204\u001b[0m     \u001b[38;5;66;03m# GH 42790 - Preserve name from an Index\u001b[39;00m\n",
      "File \u001b[0;32m~/anaconda3/lib/python3.11/site-packages/pandas/core/indexes/base.py:6252\u001b[0m, in \u001b[0;36mIndex._raise_if_missing\u001b[0;34m(self, key, indexer, axis_name)\u001b[0m\n\u001b[1;32m   6249\u001b[0m     \u001b[38;5;28;01mraise\u001b[39;00m \u001b[38;5;167;01mKeyError\u001b[39;00m(\u001b[38;5;124mf\u001b[39m\u001b[38;5;124m\"\u001b[39m\u001b[38;5;124mNone of [\u001b[39m\u001b[38;5;132;01m{\u001b[39;00mkey\u001b[38;5;132;01m}\u001b[39;00m\u001b[38;5;124m] are in the [\u001b[39m\u001b[38;5;132;01m{\u001b[39;00maxis_name\u001b[38;5;132;01m}\u001b[39;00m\u001b[38;5;124m]\u001b[39m\u001b[38;5;124m\"\u001b[39m)\n\u001b[1;32m   6251\u001b[0m not_found \u001b[38;5;241m=\u001b[39m \u001b[38;5;28mlist\u001b[39m(ensure_index(key)[missing_mask\u001b[38;5;241m.\u001b[39mnonzero()[\u001b[38;5;241m0\u001b[39m]]\u001b[38;5;241m.\u001b[39munique())\n\u001b[0;32m-> 6252\u001b[0m \u001b[38;5;28;01mraise\u001b[39;00m \u001b[38;5;167;01mKeyError\u001b[39;00m(\u001b[38;5;124mf\u001b[39m\u001b[38;5;124m\"\u001b[39m\u001b[38;5;132;01m{\u001b[39;00mnot_found\u001b[38;5;132;01m}\u001b[39;00m\u001b[38;5;124m not in index\u001b[39m\u001b[38;5;124m\"\u001b[39m)\n",
      "\u001b[0;31mKeyError\u001b[0m: \"['Distance_km', 'accommodation_type_1', 'accommodation_type_2', 'entire_home_apt', 'private_room', 'Real_bed', 'Wireless_Internet', 'Breakfast', 'Free_Parking', 'cancellation_policy', 'Smoking_Allowed', 'require_guest_profile_picture', 'require_guest_phone_verification', 'Reviews_per_years'] not in index\""
     ]
    }
   ],
   "source": [
    "lists[cols]"
   ]
  },
  {
   "cell_type": "code",
   "execution_count": null,
   "id": "2774c272",
   "metadata": {},
   "outputs": [],
   "source": [
    "df.isna().sum().reset_index().head(50)"
   ]
  },
  {
   "cell_type": "code",
   "execution_count": 24,
   "id": "599177e2",
   "metadata": {},
   "outputs": [
    {
     "data": {
      "text/plain": [
       "array(['[\"Bathtub\", \"Air conditioning\", \"Bed linens\", \"Hair dryer\", \"Cleaning products\", \"TV with standard cable\", \"Books and reading material\", \"Outdoor furniture\", \"Heating\", \"Shared backyard \\\\u2013 Fully fenced\", \"Paid washer \\\\u2013 In building\", \"Private entrance\", \"Dishes and silverware\", \"Elevator\", \"Essentials\", \"Oven\", \"Clothing storage: closet and dresser\", \"Drying rack for clothing\", \"Hangers\", \"Laundromat nearby\", \"Paid street parking off premises\", \"Microwave\", \"Private patio or balcony\", \"Shared pool\", \"Single level home\", \"Stove\", \"Room-darkening shades\", \"Wine glasses\", \"Hot water\", \"Wifi\", \"Dining table\", \"Shared sauna\", \"Paid dryer \\\\u2013 In building\", \"Toaster\", \"Extra pillows and blankets\", \"Cooking basics\", \"Coffee maker\", \"Iron\", \"Host greets you\", \"Bidet\", \"Refrigerator\", \"Gym\", \"Long term stays allowed\", \"Kitchen\", \"Freezer\", \"Safe\"]',\n",
       "       '[\"Bathtub\", \"Air conditioning\", \"TV\", \"Heating\", \"Dedicated workspace\", \"Paid parking off premises\", \"Dishes and silverware\", \"Essentials\", \"Oven\", \"Hangers\", \"Microwave\", \"Private patio or balcony\", \"Stove\", \"Washer\", \"Room-darkening shades\", \"Hot water\", \"Wifi\", \"Cooking basics\", \"Coffee maker\", \"Iron\", \"Host greets you\", \"Refrigerator\", \"Long term stays allowed\", \"Kitchen\"]',\n",
       "       '[\"Washer\", \"Air conditioning\", \"Dryer\", \"TV with standard cable\", \"Wifi\", \"Heating\", \"Kitchen\"]',\n",
       "       ...,\n",
       "       '[\"Washer\", \"Smoking allowed\", \"Air conditioning\", \"TV\", \"Exterior security cameras on property\", \"Wifi\", \"Dedicated workspace\", \"Kitchen\"]',\n",
       "       '[\"Bathtub\", \"Air conditioning\", \"TV\", \"Bed linens\", \"Cleaning products\", \"Outdoor furniture\", \"Heating - split type ductless system\", \"Dedicated workspace\", \"Dishes and silverware\", \"Elevator\", \"Housekeeping available every day - available at extra cost\", \"Hangers\", \"Private patio or balcony\", \"Conditioner\", \"Hot water kettle\", \"Luggage dropoff allowed\", \"Wine glasses\", \"Wifi\", \"Paid pack \\\\u2019n play/travel crib - available upon request\", \"Coffee maker\", \"Bidet\", \"Clothing storage\", \"Refrigerator\", \"Kitchen\", \"Free washer \\\\u2013 In building\"]',\n",
       "       '[\"Bathtub\", \"Air conditioning\", \"Ceiling fan\", \"TV\", \"Bed linens\", \"Hair dryer\", \"Cleaning products\", \"Heating\", \"Dishes and silverware\", \"Hangers\", \"Microwave\", \"Stove\", \"Washer\", \"Room-darkening shades\", \"Coffee\", \"Wine glasses\", \"Hot water\", \"Wifi\", \"Dining table\", \"Cooking basics\", \"Coffee maker\", \"Iron\", \"Shower gel\", \"Bidet\", \"Clothing storage\", \"Refrigerator\", \"Kitchen\", \"Freezer\"]'],\n",
       "      dtype=object)"
      ]
     },
     "execution_count": 24,
     "metadata": {},
     "output_type": "execute_result"
    }
   ],
   "source": [
    "df.amenities.unique()"
   ]
  },
  {
   "cell_type": "code",
   "execution_count": null,
   "id": "b28d6089",
   "metadata": {},
   "outputs": [],
   "source": [
    "['host_is_superhost', 'host_listings_count', \n",
    "'host_has_profile_pic', 'host_identity_verified', \n",
    "'latitude', 'longitude', \n",
    "\n",
    "'accommodates', 'bathrooms', 'bedrooms',\n",
    "]"
   ]
  },
  {
   "cell_type": "code",
   "execution_count": 27,
   "id": "b9725b84",
   "metadata": {},
   "outputs": [
    {
     "data": {
      "text/plain": [
       "array([ 1. ,  nan,  1.5,  5.5,  2.5,  2. ,  0. ,  3. ,  6. ,  4.5,  4. ,\n",
       "        3.5,  5. ,  0.5,  9. ,  8. , 22. ,  7. ,  6.5, 10. ,  9.5, 16. ,\n",
       "        7.5, 13. ,  8.5, 12.5, 15. , 20. ])"
      ]
     },
     "execution_count": 27,
     "metadata": {},
     "output_type": "execute_result"
    }
   ],
   "source": [
    "df.bathrooms.unique()"
   ]
  },
  {
   "cell_type": "code",
   "execution_count": 29,
   "id": "af1ebd49",
   "metadata": {
    "scrolled": true
   },
   "outputs": [
    {
     "data": {
      "text/plain": [
       "array([ 1., nan,  2.,  6.,  3.,  4.,  5.,  7.,  0.,  9., 15.,  8., 10.,\n",
       "       12., 13., 14., 16., 36., 11., 21., 22., 24., 32., 31., 25., 19.,\n",
       "       30., 17., 18., 28., 20., 23.])"
      ]
     },
     "execution_count": 29,
     "metadata": {},
     "output_type": "execute_result"
    }
   ],
   "source": [
    "df.beds.unique()"
   ]
  },
  {
   "cell_type": "code",
   "execution_count": 33,
   "id": "4e1b04a4",
   "metadata": {},
   "outputs": [],
   "source": [
    "import ast\n"
   ]
  },
  {
   "cell_type": "code",
   "execution_count": 34,
   "id": "9ecbaeba",
   "metadata": {},
   "outputs": [],
   "source": [
    "df['amenities_list'] = df['amenities'].apply(lambda x: ast.literal_eval(x) if pd.notnull(x) else [])\n"
   ]
  },
  {
   "cell_type": "code",
   "execution_count": 36,
   "id": "808f3a24",
   "metadata": {},
   "outputs": [],
   "source": [
    "all_amenities = set(amenity for sublist in df['amenities_list'] for amenity in sublist)\n"
   ]
  },
  {
   "cell_type": "code",
   "execution_count": 41,
   "id": "ff364c80",
   "metadata": {},
   "outputs": [],
   "source": [
    "from collections import Counter\n"
   ]
  },
  {
   "cell_type": "code",
   "execution_count": null,
   "id": "8a17b5bf",
   "metadata": {},
   "outputs": [],
   "source": [
    "# Parse the 'amenities' string to list\n",
    "df['amenities_list'] = df['amenities'].apply(lambda x: ast.literal_eval(x) if pd.notnull(x) else [])\n",
    "\n",
    "# Count frequency of all amenities\n",
    "all_amenities = [amenity for sublist in df['amenities_list'] for amenity in sublist]\n",
    "amenity_counts = Counter(all_amenities)\n",
    "\n",
    "# Get top 100 most common amenities\n",
    "top_100_amenities = [amenity for amenity, count in amenity_counts.most_common(100)]\n",
    "\n",
    "# One-hot encode only the top 100 amenities\n",
    "amenities_names = []\n",
    "for amenity in top_100_amenities:\n",
    "    clean_col_name = f'amenity_{amenity}'.replace(' ', '_').replace('-', '_').replace('/', '_').replace(':', '').replace('.', '').replace(',', '').replace('(', '').replace(')', '')\n",
    "    df[clean_col_name] = df['amenities_list'].apply(lambda x: int(amenity in x))\n",
    "    amenities_names.append(clean_col_name)\n",
    "    \n"
   ]
  },
  {
   "cell_type": "code",
   "execution_count": null,
   "id": "4e8d6291",
   "metadata": {},
   "outputs": [],
   "source": [
    "# kitchen_amenities = [\n",
    "#     'amenity_Kitchen', 'amenity_Cooking_basics', 'amenity_Oven', 'amenity_Stove',\n",
    "#     'amenity_Microwave', 'amenity_Toaster', 'amenity_Coffee_maker',\n",
    "#     'amenity_Coffee_maker_pour_over_coffee', 'amenity_Coffee_maker_drip_coffee_maker',\n",
    "#     'amenity_Coffee_maker_Nespresso', 'amenity_Coffee', 'amenity_Dining_table',\n",
    "#     'amenity_Blender', 'amenity_Wine_glasses', 'amenity_Baking_sheet',\n",
    "#     'amenity_BBQ_grill', 'amenity_Barbecue_utensils', 'amenity_Electric_stove',\n",
    "#     'amenity_Gas_stove', 'amenity_Stainless_steel_oven'\n",
    "# ]\n",
    "# bedroom_amenities = [\n",
    "#     'amenity_Bed_linens', 'amenity_Extra_pillows_and_blankets',\n",
    "#     'amenity_Hangers', 'amenity_Clothing_storage', 'amenity_Clothing_storage_closet',\n",
    "#     'amenity_Drying_rack_for_clothing', 'amenity_Crib'\n",
    "# ]\n",
    "# bathroom_amenities = [\n",
    "#     'amenity_Hot_water', 'amenity_Shampoo', 'amenity_Body_soap',\n",
    "#     'amenity_Hair_dryer', 'amenity_Bidet', 'amenity_Shower_gel',\n",
    "#     'amenity_Bathtub', 'amenity_Hot_water_kettle', 'amenity_Outdoor_shower'\n",
    "# ]\n",
    "# climate_amenities = [\n",
    "#     'amenity_Air_conditioning', 'amenity_Heating', 'amenity_AC___split_type_ductless_system',\n",
    "#     'amenity_Heating___split_type_ductless_system', 'amenity_Portable_fans',\n",
    "#     'amenity_Ceiling_fan', 'amenity_Central_heating', 'amenity_Radiant_heating'\n",
    "# ]\n",
    "# cleaning_amenities = [\n",
    "#     'amenity_Cleaning_products', 'amenity_Cleaning_available_during_stay',\n",
    "#     'amenity_Washer', 'amenity_Dryer', 'amenity_Paid_washer_–_In_building',\n",
    "#     'amenity_Paid_dryer_–_In_building', 'amenity_Free_washer_–_In_unit',\n",
    "#     'amenity_Laundromat_nearby'\n",
    "# ]\n",
    "# safety_amenities = [\n",
    "#     'amenity_Smoke_alarm', 'amenity_Carbon_monoxide_alarm',\n",
    "#     'amenity_Fire_extinguisher', 'amenity_First_aid_kit', 'amenity_Safe',\n",
    "#     'amenity_Window_guards', 'amenity_Exterior_security_cameras_on_property'\n",
    "# ]\n",
    "# tech_amenities = [\n",
    "#     'amenity_Wifi', 'amenity_TV', 'amenity_TV_with_standard_cable',\n",
    "#     'amenity_Ethernet_connection'\n",
    "# ]\n",
    "# entry_amenities = [\n",
    "#     'amenity_Self_check_in', 'amenity_Keypad', 'amenity_Lockbox',\n",
    "#     'amenity_Private_entrance', 'amenity_Host_greets_you'\n",
    "# ]\n",
    "# outdoor_amenities = [\n",
    "#     'amenity_Backyard', 'amenity_Patio_or_balcony', 'amenity_Private_patio_or_balcony',\n",
    "#     'amenity_Outdoor_furniture', 'amenity_Outdoor_dining_area',\n",
    "#     'amenity_Shared_pool', 'amenity_Shared_gym_in_building',\n",
    "#     'amenity_Sun_loungers', 'amenity_City_skyline_view', 'amenity_Pool'\n",
    "# ]\n",
    "# parking_amenities = [\n",
    "#     'amenity_Free_street_parking', 'amenity_Paid_parking_off_premises',\n",
    "#     'amenity_Paid_parking_on_premises', 'amenity_Paid_parking_lot_off_premises'\n",
    "# ]\n",
    "# misc_amenities = [\n",
    "#     'amenity_Essentials', 'amenity_Dedicated_workspace',\n",
    "#     'amenity_Luggage_dropoff_allowed', 'amenity_Books_and_reading_material',\n",
    "#     'amenity_Exercise_equipment', 'amenity_Building_staff',\n",
    "#     'amenity_Pets_allowed', 'amenity_Long_term_stays_allowed',\n",
    "#     'amenity_Smoking_allowed', 'amenity_Single_level_home'\n",
    "# ]\n"
   ]
  },
  {
   "cell_type": "code",
   "execution_count": 51,
   "id": "a86549a0",
   "metadata": {},
   "outputs": [
    {
     "data": {
      "text/plain": [
       "['amenity_Kitchen',\n",
       " 'amenity_Wifi',\n",
       " 'amenity_Hot_water',\n",
       " 'amenity_Dishes_and_silverware',\n",
       " 'amenity_Cooking_basics',\n",
       " 'amenity_Hangers',\n",
       " 'amenity_Essentials',\n",
       " 'amenity_Bed_linens',\n",
       " 'amenity_Refrigerator',\n",
       " 'amenity_Hair_dryer',\n",
       " 'amenity_Air_conditioning',\n",
       " 'amenity_Microwave',\n",
       " 'amenity_Elevator',\n",
       " 'amenity_Bidet',\n",
       " 'amenity_TV',\n",
       " 'amenity_Dedicated_workspace',\n",
       " 'amenity_Room_darkening_shades',\n",
       " 'amenity_Hot_water_kettle',\n",
       " 'amenity_Iron',\n",
       " 'amenity_Extra_pillows_and_blankets',\n",
       " 'amenity_Long_term_stays_allowed',\n",
       " 'amenity_Bathtub',\n",
       " 'amenity_Dining_table',\n",
       " 'amenity_Toaster',\n",
       " 'amenity_Cleaning_products',\n",
       " 'amenity_Heating',\n",
       " 'amenity_Freezer',\n",
       " 'amenity_Wine_glasses',\n",
       " 'amenity_Shampoo',\n",
       " 'amenity_Oven',\n",
       " 'amenity_Fire_extinguisher',\n",
       " 'amenity_Body_soap',\n",
       " 'amenity_Free_street_parking',\n",
       " 'amenity_Laundromat_nearby',\n",
       " 'amenity_Baking_sheet',\n",
       " 'amenity_Host_greets_you',\n",
       " 'amenity_Coffee_maker',\n",
       " 'amenity_Private_patio_or_balcony',\n",
       " 'amenity_Washer',\n",
       " 'amenity_Conditioner',\n",
       " 'amenity_Drying_rack_for_clothing',\n",
       " 'amenity_Self_check_in',\n",
       " 'amenity_AC___split_type_ductless_system',\n",
       " 'amenity_First_aid_kit',\n",
       " 'amenity_Clothing_storage_closet',\n",
       " 'amenity_Coffee',\n",
       " 'amenity_Outdoor_dining_area',\n",
       " 'amenity_Heating___split_type_ductless_system',\n",
       " 'amenity_Stove',\n",
       " 'amenity_Outdoor_furniture',\n",
       " 'amenity_Smoke_alarm',\n",
       " 'amenity_Luggage_dropoff_allowed',\n",
       " 'amenity_Clothing_storage',\n",
       " 'amenity_Pets_allowed',\n",
       " 'amenity_Shower_gel',\n",
       " 'amenity_Single_level_home',\n",
       " 'amenity_Private_entrance',\n",
       " 'amenity_Carbon_monoxide_alarm',\n",
       " 'amenity_BBQ_grill',\n",
       " 'amenity_Paid_parking_off_premises',\n",
       " 'amenity_Exterior_security_cameras_on_property',\n",
       " 'amenity_Patio_or_balcony',\n",
       " 'amenity_Paid_parking_lot_off_premises',\n",
       " 'amenity_Books_and_reading_material',\n",
       " 'amenity_City_skyline_view',\n",
       " 'amenity_Safe',\n",
       " 'amenity_Cleaning_available_during_stay',\n",
       " 'amenity_Smoking_allowed',\n",
       " 'amenity_Blender',\n",
       " 'amenity_Lockbox',\n",
       " 'amenity_Free_washer_–_In_unit',\n",
       " 'amenity_Pool',\n",
       " 'amenity_Paid_washer_–_In_building',\n",
       " 'amenity_Ethernet_connection',\n",
       " 'amenity_TV_with_standard_cable',\n",
       " 'amenity_Window_guards',\n",
       " 'amenity_Dryer',\n",
       " 'amenity_Paid_dryer_–_In_building',\n",
       " 'amenity_Paid_parking_on_premises',\n",
       " 'amenity_Mini_fridge',\n",
       " 'amenity_Exercise_equipment',\n",
       " 'amenity_Coffee_maker_pour_over_coffee',\n",
       " 'amenity_Outdoor_shower',\n",
       " 'amenity_Ceiling_fan',\n",
       " 'amenity_Stainless_steel_oven',\n",
       " 'amenity_Portable_fans',\n",
       " 'amenity_Backyard',\n",
       " 'amenity_Coffee_maker_drip_coffee_maker',\n",
       " 'amenity_Crib',\n",
       " 'amenity_Building_staff',\n",
       " 'amenity_Sun_loungers',\n",
       " 'amenity_Shared_gym_in_building',\n",
       " 'amenity_Radiant_heating',\n",
       " 'amenity_Coffee_maker_Nespresso',\n",
       " 'amenity_Keypad',\n",
       " 'amenity_Electric_stove',\n",
       " 'amenity_Barbecue_utensils',\n",
       " 'amenity_Central_heating',\n",
       " 'amenity_Gas_stove',\n",
       " 'amenity_Shared_pool']"
      ]
     },
     "execution_count": 51,
     "metadata": {},
     "output_type": "execute_result"
    }
   ],
   "source": [
    "amenities_names"
   ]
  },
  {
   "cell_type": "code",
   "execution_count": 22,
   "id": "76fc8f8b",
   "metadata": {},
   "outputs": [
    {
     "data": {
      "text/plain": [
       "0         $67,518.00\n",
       "1         $22,375.00\n",
       "2                NaN\n",
       "3         $52,511.00\n",
       "4        $113,360.00\n",
       "            ...     \n",
       "35167     $53,109.00\n",
       "35168     $23,630.00\n",
       "35169     $35,403.00\n",
       "35170     $37,209.00\n",
       "35171     $35,287.00\n",
       "Name: price, Length: 35172, dtype: object"
      ]
     },
     "execution_count": 22,
     "metadata": {},
     "output_type": "execute_result"
    }
   ],
   "source": [
    "columns = [\n",
    "    # Outcome variable\n",
    "    'price',\n",
    "    # AC-type 1\n",
    "    'Apartment', 'Condominium', 'Loft',\n",
    "    # AC-type 2\n",
    "    'Bed_&_breakfast', 'Dorm',\n",
    "    # AC-type 3\n",
    "    'Bungalow', 'House', 'Townhouse', \n",
    "    'Villa', 'Cabin', 'Chalet',\n",
    "    # AC-types to drop\n",
    "    'Boat', 'Castle', 'Other', 'Camper/RV',\n",
    "    'Cave', 'Earth House', 'Hut', 'Igloo',\n",
    "    'Island', 'Lighthouse', 'Parking Space', 'Plane',\n",
    "    'Tent', 'Tipi', 'Train', 'Treehouse', 'Yurt', \n",
    "    # Cancellation policy\n",
    "    'moderate', 'strict',\n",
    "    # Policies to drop\n",
    "    'super_strict_30', 'super_strict_60', \n",
    "    # Host Attributes\n",
    "    'host_is_superhost', 'host_listings_count',\n",
    "    'host_has_profile_pic', 'host_identity_verified',\n",
    "    # Site & Property Attributes\n",
    "    'Distance_km', 'entire_home_apt',\n",
    "    'private_room', 'shared_room',\n",
    "    'accommodates', 'bathrooms', 'bedrooms',\n",
    "    # Amenities & Services\n",
    "    'Real_bed', 'Wireless_Internet', 'Breakfast',\n",
    "    'Free_Parking', 'instant_bookable',\n",
    "    # Rental Rules\n",
    "    'Smoking_Allowed',\n",
    "    'require_guest_profile_picture',\n",
    "    'require_guest_phone_verification',\n",
    "    # Online Reviews: Number & Ratings\n",
    "    'Reviews_per_years',\n",
    "    'review_scores_rating',\n",
    "    # For Visualization\n",
    "    'latitude', 'longitude'\n",
    "] \n",
    "\n",
    "df = pd.read_csv('/Users/ar8787/Dropbox/data_eco/Udesa/mater_thesis/data/Paris_data.csv', delimiter = ';',  \n",
    "                 decimal = \",\", usecols = columns)\n",
    "\n",
    "\n",
    "#has to be encoded as utf-8\n",
    "#df.info() (df.shape, df.columns, df.head(), df.dtypes etc. )\n",
    "df.isna().sum().loc[df.isna().sum() != 0]\n",
    "df = df.dropna()\n",
    "\n",
    "#-------------------------------------------------------------------------------\n",
    "# Format data\n",
    "#-------------------------------------------------------------------------------\n",
    "\n",
    "df['price']             = [x.replace('.','')  for x in df['price']]\n",
    "df['price']             = [x.replace(',','.') for x in df['price']]\n",
    "df['price']             = [x.replace('$','')  for x in df['price']]\n",
    "df['Reviews_per_years'] = [x.replace(',','.') for x in df['Reviews_per_years']]\n",
    "df = df[df['Reviews_per_years'] != '#NUM!']\n",
    "df = df[df['Reviews_per_years'] != '#VALUE!']\n",
    "df = df[df['Reviews_per_years'] != '#DIV/0!']\n",
    "\n",
    "df['price']             = df['price'].astype(float)\n",
    "df['Reviews_per_years'] = df['Reviews_per_years'].astype(float)\n",
    "\n",
    "\n",
    "\n",
    "#-------------------------------------------------------------------------------\n",
    "# Exclude some variables for reference categories\n",
    "#-------------------------------------------------------------------------------\n",
    "\n",
    "columns_to_drop = [\n",
    "    #Accommodations to be dropped:\n",
    "    'Boat', 'Castle', 'Other', 'Camper/RV',\n",
    "    'Cave', 'Earth House', 'Hut', 'Igloo',\n",
    "    'Island', 'Lighthouse', 'Parking Space', 'Plane',\n",
    "    'Tent', 'Tipi', 'Train', 'Treehouse', 'Yurt',\n",
    "]\n",
    "\n",
    "for column in columns_to_drop:\n",
    "    df = df[df[column] == 0]\n",
    "df = df.drop(columns_to_drop, axis = 1)\n",
    "\n",
    "\n",
    "#-------------------------------------------------------------------------------\n",
    "# Cancellation policy\n",
    "#-------------------------------------------------------------------------------\n",
    "\n",
    "#df['super_strict_30'].value_counts() #5 times\n",
    "#df['super_strict_60'].value_counts() #6 times\n",
    "\n",
    "df['cancellation_policy'] = df['moderate'] + df['strict']\n",
    "\n",
    "#-------------------------------------------------------------------------------\n",
    "# Accomodation Type\n",
    "#-------------------------------------------------------------------------------\n",
    "\n",
    "df['accommodation_type_1'] = (\n",
    "    df['Apartment'] \n",
    "    + df['Condominium'] \n",
    "    + df['Loft']\n",
    ")\n",
    "\n",
    "df['accommodation_type_2'] = (\n",
    "    df['Bed_&_breakfast'] \n",
    "    + df['Dorm']\n",
    ")\n",
    "\n",
    "df['accommodation_type_3'] = (\n",
    "    df['Bungalow'] \n",
    "    + df['House'] \n",
    "    + df['Townhouse'] \n",
    "    + df['Villa']\n",
    "    + df['Cabin']\n",
    "    + df['Chalet']\n",
    ")\n",
    "\n",
    "df = df.drop([\n",
    "    'moderate', 'strict', 'Apartment', \n",
    "    'Condominium', 'Loft', 'Bed_&_breakfast', \n",
    "    'Dorm', 'Bungalow', 'House', 'Townhouse', \n",
    "    'Villa', 'Cabin', 'Chalet'\n",
    "], axis = 1)\n"
   ]
  },
  {
   "cell_type": "code",
   "execution_count": 9,
   "id": "ecf003d9",
   "metadata": {},
   "outputs": [],
   "source": [
    "calendar = pd.read_csv('/Users/ar8787/Downloads/calendar.csv.gz')"
   ]
  },
  {
   "cell_type": "code",
   "execution_count": 12,
   "id": "411914e6",
   "metadata": {},
   "outputs": [
    {
     "data": {
      "text/plain": [
       "Index(['listing_id', 'date', 'available', 'price', 'adjusted_price',\n",
       "       'minimum_nights', 'maximum_nights'],\n",
       "      dtype='object')"
      ]
     },
     "execution_count": 12,
     "metadata": {},
     "output_type": "execute_result"
    }
   ],
   "source": [
    "calendar.columns"
   ]
  }
 ],
 "metadata": {
  "kernelspec": {
   "display_name": "Python 3 (ipykernel)",
   "language": "python",
   "name": "python3"
  },
  "language_info": {
   "codemirror_mode": {
    "name": "ipython",
    "version": 3
   },
   "file_extension": ".py",
   "mimetype": "text/x-python",
   "name": "python",
   "nbconvert_exporter": "python",
   "pygments_lexer": "ipython3",
   "version": "3.11.5"
  }
 },
 "nbformat": 4,
 "nbformat_minor": 5
}
